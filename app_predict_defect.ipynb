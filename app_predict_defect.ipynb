{
 "cells": [
  {
   "cell_type": "code",
   "execution_count": 1,
   "id": "proved-russell",
   "metadata": {},
   "outputs": [],
   "source": [
    "import pickle\n",
    "import streamlit as st\n",
    "import pandas as pd\n",
    "import numpy as np"
   ]
  },
  {
   "cell_type": "code",
   "execution_count": 2,
   "id": "identified-change",
   "metadata": {},
   "outputs": [],
   "source": [
    "# Load the Model and Preprocess from file\n",
    "with open('model.pkl', 'rb') as file:\n",
    "    model = pickle.load(file)\n"
   ]
  },
  {
   "cell_type": "code",
   "execution_count": 3,
   "id": "upset-sweet",
   "metadata": {},
   "outputs": [
    {
     "name": "stderr",
     "output_type": "stream",
     "text": [
      "2021-02-12 17:18:06.352 WARNING root: \n",
      "  \u001b[33m\u001b[1mWarning:\u001b[0m to view this Streamlit app on a browser, run it with the following\n",
      "  command:\n",
      "\n",
      "    streamlit run /Users/nicolas/opt/miniconda3/lib/python3.8/site-packages/ipykernel_launcher.py [ARGUMENTS]\n"
     ]
    },
    {
     "data": {
      "text/plain": [
       "<streamlit.delta_generator.DeltaGenerator at 0x7fd140c74610>"
      ]
     },
     "execution_count": 3,
     "metadata": {},
     "output_type": "execute_result"
    }
   ],
   "source": [
    "st.write(\"\"\"\n",
    "# Valeo Defect Prediction App\n",
    "This app predicts the defects on the Valeo production line!\n",
    "\"\"\")\n",
    "\n",
    "st.sidebar.header('User Input Features')\n",
    "\n",
    "\n",
    "st.sidebar.markdown(\"\"\"\n",
    "[Example CSV input file](https://raw.githubusercontent.com/dataprofessor/data/master/penguins_example.csv)\n",
    "\"\"\")"
   ]
  },
  {
   "cell_type": "code",
   "execution_count": 4,
   "id": "cross-washington",
   "metadata": {},
   "outputs": [],
   "source": [
    "# Collects user input features into dataframe\n",
    "uploaded_file = st.sidebar.file_uploader(\"Upload your input CSV file\", type=[\"csv\"])\n",
    "if uploaded_file is not None:\n",
    "    input_features = pd.read_csv(uploaded_file)\n",
    "else:\n",
    "    def user_input_features():\n",
    "        PROC_TRACEINFO = st.sidebar.text_input('PROC_TRACEINFO', 'I-B-XA1207672-190422-00287')\n",
    "\n",
    "        OP070_V_1_angle_value = st.sidebar.slider('OP070_V_1_angle_value', 0.0, 200.0, 100.0)\n",
    "        OP090_SnapRingPeakForce_value = st.sidebar.slider('OP090_SnapRingPeakForce_value', 0.0, 200.0, 100.0)\n",
    "        OP070_V_2_angle_value = st.sidebar.slider('OP070_V_2_angle_value', 0.0, 200.0, 100.0)\n",
    "        OP120_Rodage_I_mesure_value = st.sidebar.slider('OP120_Rodage_I_mesure_value', 0.0, 200.0, 100.0)\n",
    "        OP090_SnapRingFinalStroke_value = st.sidebar.slider('OP090_SnapRingFinalStroke_value', 0.0, 200.0, 100.0)\n",
    "        OP110_Vissage_M8_torque_value = st.sidebar.slider('OP110_Vissage_M8_torque_value', 0.0, 200.0, 100.0)\n",
    "        OP100_Capuchon_insertion_mesure = st.sidebar.slider('OP100_Capuchon_insertion_mesure', 0.0, 200.0, 100.0)\n",
    "        OP120_Rodage_U_mesure_value = st.sidebar.slider('OP120_Rodage_U_mesure_value', 0.0, 200.0, 100.0)\n",
    "        OP070_V_1_torque_value = st.sidebar.slider('OP070_V_1_torque_value', 0.0, 200.0, 100.0)\n",
    "        OP090_StartLinePeakForce_value = st.sidebar.slider('OP090_StartLinePeakForce_value', 0.0, 200.0, 100.0)\n",
    "        OP110_Vissage_M8_angle_value = st.sidebar.slider('OP110_Vissage_M8_angle_value', 0.0, 200.0, 100.0)\n",
    "        OP090_SnapRingMidPointForce_val = st.sidebar.slider('OP090_SnapRingMidPointForce_val', 0.0, 200.0, 100.0)\n",
    "        OP070_V_2_torque_value = st.sidebar.slider('OP070_V_2_torque_value', 0.0, 200.0, 100.0)\n",
    "\n",
    "        data = {'PROC_TRACEINFO': PROC_TRACEINFO,\n",
    "                'OP070_V_1_angle_value': OP070_V_1_angle_value,\n",
    "                'OP090_SnapRingPeakForce_value': OP090_SnapRingPeakForce_value,\n",
    "                'OP070_V_2_angle_value': OP070_V_2_angle_value,\n",
    "                'OP120_Rodage_I_mesure_value': OP120_Rodage_I_mesure_value,\n",
    "                'OP090_SnapRingFinalStroke_value': OP090_SnapRingFinalStroke_value,\n",
    "                'OP110_Vissage_M8_torque_value': OP110_Vissage_M8_torque_value,\n",
    "                'OP100_Capuchon_insertion_mesure': OP100_Capuchon_insertion_mesure,\n",
    "                'OP120_Rodage_U_mesure_value': OP120_Rodage_U_mesure_value,\n",
    "                'OP070_V_1_torque_value': OP070_V_1_torque_value,\n",
    "                'OP090_StartLinePeakForce_value': OP090_StartLinePeakForce_value,\n",
    "                'OP110_Vissage_M8_angle_value': OP110_Vissage_M8_angle_value,\n",
    "                'OP090_SnapRingMidPointForce_val': OP090_SnapRingMidPointForce_val,\n",
    "                'OP070_V_2_torque_value': OP070_V_2_torque_value}\n",
    "\n",
    "        features = pd.DataFrame(data, index=[0])\n",
    "        return features\n",
    "    input_features = user_input_features()"
   ]
  },
  {
   "cell_type": "code",
   "execution_count": 5,
   "id": "subject-chester",
   "metadata": {},
   "outputs": [],
   "source": [
    "# Displays the user input features\n",
    "st.subheader('User Input features')\n",
    "\n",
    "if uploaded_file is not None:\n",
    "    st.write(input_features)\n",
    "else:\n",
    "    st.write('Awaiting CSV file to be uploaded. Currently using example input parameters (shown below).')\n",
    "    st.write(input_features)"
   ]
  },
  {
   "cell_type": "code",
   "execution_count": 6,
   "id": "previous-provision",
   "metadata": {},
   "outputs": [],
   "source": [
    "# Select features after testing with different model's parameters\n",
    "features_dropped = []\n",
    "\n",
    "features_dropped.extend(['PROC_TRACEINFO',\n",
    "                         'OP070_V_1_angle_value',\n",
    "                         'OP070_V_2_angle_value',\n",
    "                         'OP120_Rodage_I_mesure_value',\n",
    "                         'OP110_Vissage_M8_torque_value',\n",
    "                         'OP100_Capuchon_insertion_mesure',\n",
    "                         'OP120_Rodage_U_mesure_value',\n",
    "                         'OP110_Vissage_M8_angle_value',\n",
    "                         'OP090_SnapRingMidPointForce_val'])\n",
    "\n",
    "\n",
    "input_features_dropped = input_features.drop(features_dropped,\n",
    "                      axis=1)\n"
   ]
  },
  {
   "cell_type": "code",
   "execution_count": 7,
   "id": "rising-explorer",
   "metadata": {},
   "outputs": [],
   "source": [
    "# Apply model to make predictions\n",
    "prediction = model.predict(input_features_dropped)\n",
    "prediction_proba = model.predict_proba(input_features_dropped)"
   ]
  },
  {
   "cell_type": "code",
   "execution_count": 8,
   "id": "premier-folks",
   "metadata": {},
   "outputs": [],
   "source": [
    "st.subheader('Prediction')\n",
    "defect_yes_no = np.array(['No Defect','Defect'])\n",
    "st.write(defect_yes_no[prediction])\n",
    "\n",
    "st.subheader('Prediction Probability')\n",
    "st.write(prediction_proba)\n"
   ]
  }
 ],
 "metadata": {
  "kernelspec": {
   "display_name": "Python 3",
   "language": "python",
   "name": "python3"
  },
  "language_info": {
   "codemirror_mode": {
    "name": "ipython",
    "version": 3
   },
   "file_extension": ".py",
   "mimetype": "text/x-python",
   "name": "python",
   "nbconvert_exporter": "python",
   "pygments_lexer": "ipython3",
   "version": "3.8.5"
  }
 },
 "nbformat": 4,
 "nbformat_minor": 5
}
