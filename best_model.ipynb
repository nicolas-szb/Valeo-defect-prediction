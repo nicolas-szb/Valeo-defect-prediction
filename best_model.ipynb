{
 "cells": [
  {
   "cell_type": "markdown",
   "metadata": {},
   "source": [
    "# Best Model"
   ]
  },
  {
   "cell_type": "code",
   "execution_count": null,
   "metadata": {},
   "outputs": [],
   "source": [
    "'''\n",
    "September 06, 2020\n",
    "TEST RESULTS:\n",
    "\n",
    "Score model = 0.655803\n",
    "Score train = 0.717868\n",
    "Score test  = 0.639390\n",
    "\n",
    "Score inconnu = None\n",
    "\n",
    "Score challenge = 0.6617\n",
    "\n",
    "Nb features = 5\n",
    "['OP090_SnapRingPeakForce_value',\n",
    " 'OP090_SnapRingFinalStroke_value',\n",
    " 'OP070_V_1_torque_value',\n",
    " 'OP090_StartLinePeakForce_value',\n",
    " 'OP070_V_2_torque_value']\n",
    " \n",
    "train_test_split dataset2/inconnu: None\n",
    "train_test_split train/test: 70/30\n",
    "\n",
    "Feature importances:\n",
    "array([0.11576494 0.20099962 0.24605541 0.16907912 0.26810092],\n",
    "      dtype=float32)\n",
    "'''\n",
    "\n",
    "\n",
    "'''\n",
    "numerical_pipeline = make_pipeline(SimpleImputer(strategy='mean'),\n",
    "                                  StandardScaler())\n",
    "\n",
    "categorical_pipeline = make_pipeline(SimpleImputer(strategy='most_frequent'),\n",
    "                                     OneHotEncoder(drop='first'))\n",
    "\n",
    "preprocessor = make_column_transformer((numerical_pipeline, numeric_features),\n",
    "                                      (categorical_pipeline, categorical_features))\n",
    "\n",
    "model = make_pipeline(preprocessor,\n",
    "                     XGBClassifier(booster='gbtree'))\n",
    "\n",
    "# define grid\n",
    "param_grid = {'xgbclassifier__scale_pos_weight': [100],\n",
    "              'xgbclassifier__n_estimators': [90], \n",
    "             'xgbclassifier__learning_rate': [0.01], \n",
    "             'xgbclassifier__max_depth': [2], \n",
    "              'xgbclassifier__min_child_weight': [1], \n",
    "              'xgbclassifier__gamma': [0], \n",
    "              'xgbclassifier__subsample': [0.8], \n",
    "              'xgbclassifier__colsample_bytree': [0.6], \n",
    "              'xgbclassifier__objective': ['binary:logistic'],\n",
    "              'xgbclassifier__nthread': [4],\n",
    "              'xgbclassifier__seed': [27],\n",
    "              'xgbclassifier__reg_alpha': [0.075]\n",
    "             }\n",
    "\n",
    "# define evaluation procedure\n",
    "cv = RepeatedStratifiedKFold(n_splits=10,\n",
    "                             n_repeats=3,\n",
    "                             random_state=42)\n",
    "\n",
    "# define grid search\n",
    "grid = GridSearchCV(estimator=model,\n",
    "                    param_grid=param_grid,\n",
    "                    n_jobs=-1,\n",
    "                    cv=cv,\n",
    "                    scoring='roc_auc')\n",
    "'''"
   ]
  }
 ],
 "metadata": {
  "kernelspec": {
   "display_name": "Python 3",
   "language": "python",
   "name": "python3"
  },
  "language_info": {
   "codemirror_mode": {
    "name": "ipython",
    "version": 3
   },
   "file_extension": ".py",
   "mimetype": "text/x-python",
   "name": "python",
   "nbconvert_exporter": "python",
   "pygments_lexer": "ipython3",
   "version": "3.8.5"
  }
 },
 "nbformat": 4,
 "nbformat_minor": 4
}
